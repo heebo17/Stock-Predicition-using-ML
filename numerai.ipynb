{
  "nbformat": 4,
  "nbformat_minor": 0,
  "metadata": {
    "colab": {
      "name": "levi_model.ipynb",
      "provenance": [],
      "collapsed_sections": [],
      "include_colab_link": true
    },
    "kernelspec": {
      "name": "python3",
      "display_name": "Python 3"
    },
    "accelerator": "GPU"
  },
  "cells": [
    {
      "cell_type": "markdown",
      "metadata": {
        "id": "view-in-github",
        "colab_type": "text"
      },
      "source": [
        "<a href=\"https://colab.research.google.com/github/heebo17/Stock-Predicition-using-ML/blob/main/numerai.ipynb\" target=\"_parent\"><img src=\"https://colab.research.google.com/assets/colab-badge.svg\" alt=\"Open In Colab\"/></a>"
      ]
    },
    {
      "cell_type": "markdown",
      "metadata": {
        "id": "esSvK3mcccGn"
      },
      "source": [
        "# Numerai Problem\r\n",
        "\r\n",
        "Multi class Classification Problem with 5 Classes"
      ]
    },
    {
      "cell_type": "markdown",
      "metadata": {
        "id": "QDNviOM9wReo"
      },
      "source": [
        "TPU: Tensor Processing Unit is highly-optimised for large batches and CNNs and has the highest training throughput.\n",
        "\n",
        "GPU: Graphics Processing Unit shows better flexibility and programmability for irregular computations, such as small batches and nonMatMul computations."
      ]
    },
    {
      "cell_type": "markdown",
      "metadata": {
        "id": "i6Dg1Jea7nkA"
      },
      "source": [
        "# To Do List:\r\n",
        "\r\n",
        "\r\n",
        "*   Feature Engineering\r\n",
        "*   Feature Selecetion\r\n",
        "*   Hyperparameter Tuning\r\n",
        "\r\n",
        "\r\n",
        "\r\n"
      ]
    },
    {
      "cell_type": "markdown",
      "metadata": {
        "id": "aTc0OJEJ77Sb"
      },
      "source": [
        "## Load data with API from Numerai"
      ]
    },
    {
      "cell_type": "code",
      "metadata": {
        "id": "dukzbOx5YPL2",
        "colab": {
          "base_uri": "https://localhost:8080/"
        },
        "outputId": "c31feb27-7b67-480f-cf59-2c3c8d9c9a14"
      },
      "source": [
        "# installing required libraries\n",
        "# numerapi, for facilitating data download and predictions uploading\n",
        "# catboost, for modeling and making predictions\n",
        "!pip install numerapi"
      ],
      "execution_count": null,
      "outputs": [
        {
          "output_type": "stream",
          "text": [
            "Collecting numerapi\n",
            "  Downloading https://files.pythonhosted.org/packages/6e/d6/b6e5bbecab0bc95736df3b32f564544d3f8827c0a73415d9b42704e6afb3/numerapi-2.4.4-py3-none-any.whl\n",
            "Requirement already satisfied: pytz in /usr/local/lib/python3.7/dist-packages (from numerapi) (2018.9)\n",
            "Requirement already satisfied: python-dateutil in /usr/local/lib/python3.7/dist-packages (from numerapi) (2.8.1)\n",
            "Requirement already satisfied: tqdm>=4.29.1 in /usr/local/lib/python3.7/dist-packages (from numerapi) (4.41.1)\n",
            "Requirement already satisfied: requests in /usr/local/lib/python3.7/dist-packages (from numerapi) (2.23.0)\n",
            "Requirement already satisfied: click>=7.0 in /usr/local/lib/python3.7/dist-packages (from numerapi) (7.1.2)\n",
            "Requirement already satisfied: six>=1.5 in /usr/local/lib/python3.7/dist-packages (from python-dateutil->numerapi) (1.15.0)\n",
            "Requirement already satisfied: urllib3!=1.25.0,!=1.25.1,<1.26,>=1.21.1 in /usr/local/lib/python3.7/dist-packages (from requests->numerapi) (1.24.3)\n",
            "Requirement already satisfied: idna<3,>=2.5 in /usr/local/lib/python3.7/dist-packages (from requests->numerapi) (2.10)\n",
            "Requirement already satisfied: certifi>=2017.4.17 in /usr/local/lib/python3.7/dist-packages (from requests->numerapi) (2020.12.5)\n",
            "Requirement already satisfied: chardet<4,>=3.0.2 in /usr/local/lib/python3.7/dist-packages (from requests->numerapi) (3.0.4)\n",
            "Installing collected packages: numerapi\n",
            "Successfully installed numerapi-2.4.4\n"
          ],
          "name": "stdout"
        }
      ]
    },
    {
      "cell_type": "code",
      "metadata": {
        "id": "L3qA9k0VZ4Hj"
      },
      "source": [
        "import os\n",
        "import gc\n",
        "import csv\n",
        "import glob\n",
        "import time\n",
        "from pathlib import Path\n",
        "\n",
        "import numerapi\n",
        "\n",
        "import scipy\n",
        "import numpy as np\n",
        "import pandas as pd\n",
        "import matplotlib.pyplot as plt\n"
      ],
      "execution_count": null,
      "outputs": []
    },
    {
      "cell_type": "code",
      "metadata": {
        "id": "HrzPVfR6egjj",
        "colab": {
          "base_uri": "https://localhost:8080/"
        },
        "outputId": "2876ea35-3ecc-4656-e00f-e6a33d094a83"
      },
      "source": [
        "napi = numerapi.NumerAPI(verbosity=\"info\")\n",
        "# download current dataset\n",
        "napi.download_current_dataset(unzip=True)\n",
        "\n",
        "current_ds = napi.get_current_round()\n",
        "latest_round = os.path.join('numerai_dataset_'+str(current_ds))"
      ],
      "execution_count": null,
      "outputs": [
        {
          "output_type": "stream",
          "text": [
            "./numerai_dataset_254.zip: 100%|█████████▉| 392M/394M [00:11<00:00, 38.1MB/s]2021-03-08 19:42:06,328 INFO numerapi.base_api: unzipping file...\n",
            "./numerai_dataset_254.zip: 394MB [00:29, 38.1MB/s]                           "
          ],
          "name": "stderr"
        }
      ]
    },
    {
      "cell_type": "markdown",
      "metadata": {
        "id": "mHdD3oxv8D5d"
      },
      "source": [
        "## Helper functions from Numerai Examples"
      ]
    },
    {
      "cell_type": "code",
      "metadata": {
        "id": "tHATa1jEq01J"
      },
      "source": [
        "TOURNAMENT_NAME = \"nomi\"\n",
        "TARGET_NAME = f\"target\"   #the f\" converts the string\n",
        "PREDICTION_NAME = f\"prediction\"\n",
        "\n",
        "BENCHMARK = 0 #???\n",
        "BAND = 0.2    #???\n",
        "\n",
        "#-----------------------------------------------------\n",
        "\n",
        "# Submissions are scored by spearman correlation\n",
        "def score(df):\n",
        "    # method=\"first\" breaks ties based on order in array\n",
        "    return np.corrcoef(\n",
        "        df[TARGET_NAME],\n",
        "        df[PREDICTION_NAME].rank(pct=True, method=\"first\")\n",
        "    )[0, 1]\n",
        "\n",
        "def correlation(predictions, targets):\n",
        "    ranked_preds = predictions.rank(pct=True, method=\"first\")\n",
        "    return np.corrcoef(ranked_preds, targets)[0, 1]\n",
        "\n",
        "# The payout function\n",
        "def payout(scores):\n",
        "    return ((scores - BENCHMARK) / BAND).clip(lower=-1, upper=1)\n",
        "\n",
        "\n",
        "# Read the csv file into a pandas Dataframe\n",
        "def read_csv(file_path):\n",
        "    with open(file_path, 'r') as f:\n",
        "        column_names = next(csv.reader(f))\n",
        "        dtypes = {x: np.float16 for x in column_names if\n",
        "                  x.startswith(('feature', 'target'))}\n",
        "    return pd.read_csv(file_path, dtype=dtypes)"
      ],
      "execution_count": null,
      "outputs": []
    },
    {
      "cell_type": "markdown",
      "metadata": {
        "id": "DxqczTVq8PR4"
      },
      "source": [
        "## Loading and exploring dataset into memory 🖥️"
      ]
    },
    {
      "cell_type": "code",
      "metadata": {
        "id": "VgodzImqq7z3",
        "colab": {
          "base_uri": "https://localhost:8080/"
        },
        "outputId": "905c6a89-e2a8-4c7e-d29a-8d588047d898"
      },
      "source": [
        "%%time\n",
        "print(\"# Loading data...\")\n",
        "# The training data is used to train your model how to predict the targets.\n",
        "training_data = read_csv(os.path.join(latest_round, \"numerai_training_data.csv\")).set_index(\"id\")\n",
        "# The tournament data is the data that Numerai uses to evaluate your model.\n",
        "tournament_data = read_csv(os.path.join(latest_round, \"numerai_tournament_data.csv\")).set_index(\"id\")\n",
        "\n",
        "example_preds = read_csv(os.path.join(latest_round, \"example_predictions.csv\"))\n",
        "\n",
        "validation_data = tournament_data[tournament_data.data_type == \"validation\"]\n",
        "test_data = tournament_data[tournament_data.data_type == \"test\"]\n",
        "live_data = tournament_data[tournament_data.data_type == \"live\"]\n",
        "\n",
        "feature_names = [f for f in training_data.columns if f.startswith(\"feature\")]\n",
        "print(f\"Loaded {len(feature_names)} features\")\n",
        "\n",
        "cols = feature_names+[TARGET_NAME]\n",
        "training_data.head()"
      ],
      "execution_count": null,
      "outputs": [
        {
          "output_type": "stream",
          "text": [
            "# Loading data...\n",
            "Loaded 310 features\n",
            "CPU times: user 52.2 s, sys: 3.56 s, total: 55.7 s\n",
            "Wall time: 55.7 s\n"
          ],
          "name": "stdout"
        }
      ]
    },
    {
      "cell_type": "markdown",
      "metadata": {
        "id": "a1u42fjqjMde"
      },
      "source": [
        "In the tournament data, there is \r\n",
        "test data --> era 575\r\n",
        "validation data --> 121\r\n",
        "live_data --> X"
      ]
    },
    {
      "cell_type": "markdown",
      "metadata": {
        "id": "ScygRqqU_Onp"
      },
      "source": [
        "# Feature Engineering"
      ]
    },
    {
      "cell_type": "code",
      "metadata": {
        "id": "faVCuGzK_TPo"
      },
      "source": [
        "#Check Stationarity"
      ],
      "execution_count": null,
      "outputs": []
    },
    {
      "cell_type": "markdown",
      "metadata": {
        "id": "RwdqS642BP-u"
      },
      "source": [
        "## Training our model \n"
      ]
    },
    {
      "cell_type": "code",
      "metadata": {
        "colab": {
          "base_uri": "https://localhost:8080/"
        },
        "id": "Nmck7MoTeVel",
        "outputId": "84f6fe5f-857d-4221-f09a-c1053ccaa787"
      },
      "source": [
        "# Seperate train data into train test split\r\n",
        "from sklearn.model_selection import train_test_split\r\n",
        "\r\n",
        "X_train = training_data[feature_names].astype(np.float32)\r\n",
        "Y_train = training_data[TARGET_NAME].astype(np.float32)\r\n",
        "\r\n",
        "\r\n",
        "x_train, x_test, y_train, y_test  = train_test_split(X_train,\r\n",
        "                                                     Y_train, \r\n",
        "                                                     test_size = 0.999, \r\n",
        "                                                     random_state=17)\r\n",
        "\r\n",
        "print(x_train.shape)\r\n",
        "\r\n",
        "print(y_train.shape)"
      ],
      "execution_count": null,
      "outputs": [
        {
          "output_type": "stream",
          "text": [
            "(501, 310)\n",
            "(501,)\n"
          ],
          "name": "stdout"
        }
      ]
    },
    {
      "cell_type": "code",
      "metadata": {
        "colab": {
          "base_uri": "https://localhost:8080/"
        },
        "id": "wSIsz6ECXi-w",
        "outputId": "423e43bd-f335-4927-92b5-907c3770133c"
      },
      "source": [
        "# TO DO\r\n",
        "# -->corrcoef as scoring\r\n",
        "# -->check if objective and eval metric makes sense to be logloss or logistic\r\n",
        "\r\n",
        "from xgboost import XGBRegressor\r\n",
        "from sklearn.model_selection import GridSearchCV\r\n",
        "from sklearn.metrics import mean_squared_error\r\n",
        "\r\n",
        "num_feature=[310,300]\r\n",
        "eta = [0.2,0.4,0.6,0.8,1]             #Step size Shrinkage\r\n",
        "max_depth= [4,5,6]                    #Max depth of a tree, default 6, increasing will possibly overfit\r\n",
        "learning_rate= [0.1, 0.05, 0.15] \r\n",
        "subsample = [1, 0.5]\r\n",
        "colsample_bytree = [1]\r\n",
        "min_child_weight=[1]\r\n",
        "\r\n",
        "\r\n",
        "boost = XGBRegressor(objective=\"reg:logistic\",\r\n",
        "                     eval_metric=\"logloss\", tree_method= 'gpu_hist',\r\n",
        "    \r\n",
        "                     validate_parameters=True, nthread=None,)\r\n",
        "params = {\r\n",
        "    # Parameters that we are going to tune.\r\n",
        "    \"booster\" : [\"gbtree\", \"dart\"],  #gblinear uses linear function\r\n",
        "    \"num_feature\": num_feature,\r\n",
        "    'max_depth':max_depth,\r\n",
        "    'min_child_weight': min_child_weight,\r\n",
        "    'eta':eta,\r\n",
        "    'subsample': subsample,\r\n",
        "    'colsample_bytree': colsample_bytree\r\n",
        "}\r\n",
        "\r\n",
        "clf = GridSearchCV(boost, params, \r\n",
        "                     scoring=\"neg_mean_squared_error\",\r\n",
        "                    cv=2, n_jobs=-1, verbose=3)\r\n",
        "clf.fit(x_train, y_train)\r\n",
        "print(\"best parameters: \",clf.best_params_)\r\n",
        "print(\"best estimator:\", clf.best_estimator_)\r\n",
        "\r\n",
        "\r\n",
        "best_estimator = clf.best_estimator_\r\n",
        "#best_estimator.fit(x_train, y_train)"
      ],
      "execution_count": null,
      "outputs": [
        {
          "output_type": "stream",
          "text": [
            "Fitting 2 folds for each of 120 candidates, totalling 240 fits\n"
          ],
          "name": "stdout"
        },
        {
          "output_type": "stream",
          "text": [
            "[Parallel(n_jobs=-1)]: Using backend LokyBackend with 2 concurrent workers.\n",
            "[Parallel(n_jobs=-1)]: Done  28 tasks      | elapsed:   24.6s\n",
            "[Parallel(n_jobs=-1)]: Done 124 tasks      | elapsed:  1.7min\n",
            "[Parallel(n_jobs=-1)]: Done 240 out of 240 | elapsed:  3.2min finished\n"
          ],
          "name": "stderr"
        },
        {
          "output_type": "stream",
          "text": [
            "best parameters:  {'booster': 'gbtree', 'colsample_bytree': 1, 'eta': 0.2, 'max_depth': 4, 'min_child_weight': 1, 'num_feature': 310, 'subsample': 0.5}\n",
            "best estimator: XGBRegressor(base_score=0.5, booster='gbtree', colsample_bylevel=1,\n",
            "             colsample_bynode=1, colsample_bytree=1, eta=0.2,\n",
            "             eval_metric='logloss', gamma=0, importance_type='gain',\n",
            "             learning_rate=0.1, max_delta_step=0, max_depth=4,\n",
            "             min_child_weight=1, missing=None, n_estimators=100, n_jobs=1,\n",
            "             nthread=None, num_feature=310, objective='reg:logistic',\n",
            "             random_state=0, reg_alpha=0, reg_lambda=1, scale_pos_weight=1,\n",
            "             seed=None, silent=None, subsample=0.5, tree_method='gpu_hist',\n",
            "             validate_parameters=True, verbosity=1)\n"
          ],
          "name": "stdout"
        }
      ]
    },
    {
      "cell_type": "code",
      "metadata": {
        "id": "yGCEWaizehA9",
        "colab": {
          "base_uri": "https://localhost:8080/"
        },
        "outputId": "b7fecde7-23b2-4723-ce17-7237b1967290"
      },
      "source": [
        "%%time\n",
        "MODEL_FILE = \"example_model.cbm\"\n",
        "\n",
        "model = best_estimator\n",
        "\n",
        "if os.path.isfile(MODEL_FILE):\n",
        "    print(\"Loading pre-trained model...\")\n",
        "    model.load_model(MODEL_FILE)\n",
        "else:\n",
        "    print(\"Training model...\")\n",
        "    model.fit(x_train, y_train)\n",
        "    model.save_model(MODEL_FILE)"
      ],
      "execution_count": null,
      "outputs": [
        {
          "output_type": "stream",
          "text": [
            "Training model...\n",
            "CPU times: user 356 ms, sys: 233 ms, total: 589 ms\n",
            "Wall time: 587 ms\n"
          ],
          "name": "stdout"
        }
      ]
    },
    {
      "cell_type": "markdown",
      "metadata": {
        "id": "y1ZceR9FAaPa"
      },
      "source": [
        "## Predictions. Evaluation. ➡️"
      ]
    },
    {
      "cell_type": "code",
      "metadata": {
        "id": "ZciDxlt93inb",
        "colab": {
          "base_uri": "https://localhost:8080/",
          "height": 275
        },
        "outputId": "321d46e7-e5a2-422d-8f83-bcd0d038b22d"
      },
      "source": [
        "validation_data.head()"
      ],
      "execution_count": null,
      "outputs": [
        {
          "output_type": "execute_result",
          "data": {
            "text/html": [
              "<div>\n",
              "<style scoped>\n",
              "    .dataframe tbody tr th:only-of-type {\n",
              "        vertical-align: middle;\n",
              "    }\n",
              "\n",
              "    .dataframe tbody tr th {\n",
              "        vertical-align: top;\n",
              "    }\n",
              "\n",
              "    .dataframe thead th {\n",
              "        text-align: right;\n",
              "    }\n",
              "</style>\n",
              "<table border=\"1\" class=\"dataframe\">\n",
              "  <thead>\n",
              "    <tr style=\"text-align: right;\">\n",
              "      <th></th>\n",
              "      <th>era</th>\n",
              "      <th>data_type</th>\n",
              "      <th>feature_intelligence1</th>\n",
              "      <th>feature_intelligence2</th>\n",
              "      <th>feature_intelligence3</th>\n",
              "      <th>feature_intelligence4</th>\n",
              "      <th>feature_intelligence5</th>\n",
              "      <th>feature_intelligence6</th>\n",
              "      <th>feature_intelligence7</th>\n",
              "      <th>feature_intelligence8</th>\n",
              "      <th>feature_intelligence9</th>\n",
              "      <th>feature_intelligence10</th>\n",
              "      <th>feature_intelligence11</th>\n",
              "      <th>feature_intelligence12</th>\n",
              "      <th>feature_charisma1</th>\n",
              "      <th>feature_charisma2</th>\n",
              "      <th>feature_charisma3</th>\n",
              "      <th>feature_charisma4</th>\n",
              "      <th>feature_charisma5</th>\n",
              "      <th>feature_charisma6</th>\n",
              "      <th>feature_charisma7</th>\n",
              "      <th>feature_charisma8</th>\n",
              "      <th>feature_charisma9</th>\n",
              "      <th>feature_charisma10</th>\n",
              "      <th>feature_charisma11</th>\n",
              "      <th>feature_charisma12</th>\n",
              "      <th>feature_charisma13</th>\n",
              "      <th>feature_charisma14</th>\n",
              "      <th>feature_charisma15</th>\n",
              "      <th>feature_charisma16</th>\n",
              "      <th>feature_charisma17</th>\n",
              "      <th>feature_charisma18</th>\n",
              "      <th>feature_charisma19</th>\n",
              "      <th>feature_charisma20</th>\n",
              "      <th>feature_charisma21</th>\n",
              "      <th>feature_charisma22</th>\n",
              "      <th>feature_charisma23</th>\n",
              "      <th>feature_charisma24</th>\n",
              "      <th>feature_charisma25</th>\n",
              "      <th>feature_charisma26</th>\n",
              "      <th>...</th>\n",
              "      <th>feature_wisdom8</th>\n",
              "      <th>feature_wisdom9</th>\n",
              "      <th>feature_wisdom10</th>\n",
              "      <th>feature_wisdom11</th>\n",
              "      <th>feature_wisdom12</th>\n",
              "      <th>feature_wisdom13</th>\n",
              "      <th>feature_wisdom14</th>\n",
              "      <th>feature_wisdom15</th>\n",
              "      <th>feature_wisdom16</th>\n",
              "      <th>feature_wisdom17</th>\n",
              "      <th>feature_wisdom18</th>\n",
              "      <th>feature_wisdom19</th>\n",
              "      <th>feature_wisdom20</th>\n",
              "      <th>feature_wisdom21</th>\n",
              "      <th>feature_wisdom22</th>\n",
              "      <th>feature_wisdom23</th>\n",
              "      <th>feature_wisdom24</th>\n",
              "      <th>feature_wisdom25</th>\n",
              "      <th>feature_wisdom26</th>\n",
              "      <th>feature_wisdom27</th>\n",
              "      <th>feature_wisdom28</th>\n",
              "      <th>feature_wisdom29</th>\n",
              "      <th>feature_wisdom30</th>\n",
              "      <th>feature_wisdom31</th>\n",
              "      <th>feature_wisdom32</th>\n",
              "      <th>feature_wisdom33</th>\n",
              "      <th>feature_wisdom34</th>\n",
              "      <th>feature_wisdom35</th>\n",
              "      <th>feature_wisdom36</th>\n",
              "      <th>feature_wisdom37</th>\n",
              "      <th>feature_wisdom38</th>\n",
              "      <th>feature_wisdom39</th>\n",
              "      <th>feature_wisdom40</th>\n",
              "      <th>feature_wisdom41</th>\n",
              "      <th>feature_wisdom42</th>\n",
              "      <th>feature_wisdom43</th>\n",
              "      <th>feature_wisdom44</th>\n",
              "      <th>feature_wisdom45</th>\n",
              "      <th>feature_wisdom46</th>\n",
              "      <th>target</th>\n",
              "    </tr>\n",
              "    <tr>\n",
              "      <th>id</th>\n",
              "      <th></th>\n",
              "      <th></th>\n",
              "      <th></th>\n",
              "      <th></th>\n",
              "      <th></th>\n",
              "      <th></th>\n",
              "      <th></th>\n",
              "      <th></th>\n",
              "      <th></th>\n",
              "      <th></th>\n",
              "      <th></th>\n",
              "      <th></th>\n",
              "      <th></th>\n",
              "      <th></th>\n",
              "      <th></th>\n",
              "      <th></th>\n",
              "      <th></th>\n",
              "      <th></th>\n",
              "      <th></th>\n",
              "      <th></th>\n",
              "      <th></th>\n",
              "      <th></th>\n",
              "      <th></th>\n",
              "      <th></th>\n",
              "      <th></th>\n",
              "      <th></th>\n",
              "      <th></th>\n",
              "      <th></th>\n",
              "      <th></th>\n",
              "      <th></th>\n",
              "      <th></th>\n",
              "      <th></th>\n",
              "      <th></th>\n",
              "      <th></th>\n",
              "      <th></th>\n",
              "      <th></th>\n",
              "      <th></th>\n",
              "      <th></th>\n",
              "      <th></th>\n",
              "      <th></th>\n",
              "      <th></th>\n",
              "      <th></th>\n",
              "      <th></th>\n",
              "      <th></th>\n",
              "      <th></th>\n",
              "      <th></th>\n",
              "      <th></th>\n",
              "      <th></th>\n",
              "      <th></th>\n",
              "      <th></th>\n",
              "      <th></th>\n",
              "      <th></th>\n",
              "      <th></th>\n",
              "      <th></th>\n",
              "      <th></th>\n",
              "      <th></th>\n",
              "      <th></th>\n",
              "      <th></th>\n",
              "      <th></th>\n",
              "      <th></th>\n",
              "      <th></th>\n",
              "      <th></th>\n",
              "      <th></th>\n",
              "      <th></th>\n",
              "      <th></th>\n",
              "      <th></th>\n",
              "      <th></th>\n",
              "      <th></th>\n",
              "      <th></th>\n",
              "      <th></th>\n",
              "      <th></th>\n",
              "      <th></th>\n",
              "      <th></th>\n",
              "      <th></th>\n",
              "      <th></th>\n",
              "      <th></th>\n",
              "      <th></th>\n",
              "      <th></th>\n",
              "      <th></th>\n",
              "      <th></th>\n",
              "      <th></th>\n",
              "    </tr>\n",
              "  </thead>\n",
              "  <tbody>\n",
              "    <tr>\n",
              "      <th>n0003aa52cab36c2</th>\n",
              "      <td>era121</td>\n",
              "      <td>validation</td>\n",
              "      <td>0.25</td>\n",
              "      <td>0.75</td>\n",
              "      <td>0.50</td>\n",
              "      <td>0.50</td>\n",
              "      <td>0.0</td>\n",
              "      <td>0.75</td>\n",
              "      <td>0.5</td>\n",
              "      <td>0.25</td>\n",
              "      <td>0.50</td>\n",
              "      <td>0.5</td>\n",
              "      <td>0.25</td>\n",
              "      <td>0.0</td>\n",
              "      <td>0.25</td>\n",
              "      <td>0.50</td>\n",
              "      <td>0.25</td>\n",
              "      <td>0.00</td>\n",
              "      <td>0.25</td>\n",
              "      <td>1.00</td>\n",
              "      <td>1.00</td>\n",
              "      <td>0.25</td>\n",
              "      <td>1.00</td>\n",
              "      <td>1.00</td>\n",
              "      <td>0.25</td>\n",
              "      <td>0.25</td>\n",
              "      <td>0.0</td>\n",
              "      <td>0.50</td>\n",
              "      <td>0.25</td>\n",
              "      <td>0.75</td>\n",
              "      <td>0.00</td>\n",
              "      <td>0.50</td>\n",
              "      <td>0.25</td>\n",
              "      <td>0.25</td>\n",
              "      <td>0.25</td>\n",
              "      <td>0.50</td>\n",
              "      <td>0.00</td>\n",
              "      <td>0.50</td>\n",
              "      <td>1.00</td>\n",
              "      <td>0.25</td>\n",
              "      <td>...</td>\n",
              "      <td>0.00</td>\n",
              "      <td>0.0</td>\n",
              "      <td>0.25</td>\n",
              "      <td>0.5</td>\n",
              "      <td>0.25</td>\n",
              "      <td>0.25</td>\n",
              "      <td>0.00</td>\n",
              "      <td>0.25</td>\n",
              "      <td>0.00</td>\n",
              "      <td>0.25</td>\n",
              "      <td>0.50</td>\n",
              "      <td>0.50</td>\n",
              "      <td>0.50</td>\n",
              "      <td>0.50</td>\n",
              "      <td>0.00</td>\n",
              "      <td>0.25</td>\n",
              "      <td>0.75</td>\n",
              "      <td>0.25</td>\n",
              "      <td>0.25</td>\n",
              "      <td>0.50</td>\n",
              "      <td>0.25</td>\n",
              "      <td>0.00</td>\n",
              "      <td>0.25</td>\n",
              "      <td>0.50</td>\n",
              "      <td>0.25</td>\n",
              "      <td>0.5</td>\n",
              "      <td>0.25</td>\n",
              "      <td>0.25</td>\n",
              "      <td>1.00</td>\n",
              "      <td>0.75</td>\n",
              "      <td>0.75</td>\n",
              "      <td>0.75</td>\n",
              "      <td>1.00</td>\n",
              "      <td>0.75</td>\n",
              "      <td>0.50</td>\n",
              "      <td>0.5</td>\n",
              "      <td>1.0</td>\n",
              "      <td>0.00</td>\n",
              "      <td>0.00</td>\n",
              "      <td>0.25</td>\n",
              "    </tr>\n",
              "    <tr>\n",
              "      <th>n000920ed083903f</th>\n",
              "      <td>era121</td>\n",
              "      <td>validation</td>\n",
              "      <td>0.75</td>\n",
              "      <td>0.50</td>\n",
              "      <td>0.75</td>\n",
              "      <td>1.00</td>\n",
              "      <td>0.5</td>\n",
              "      <td>0.00</td>\n",
              "      <td>0.0</td>\n",
              "      <td>0.75</td>\n",
              "      <td>0.25</td>\n",
              "      <td>0.0</td>\n",
              "      <td>0.75</td>\n",
              "      <td>0.5</td>\n",
              "      <td>0.00</td>\n",
              "      <td>0.25</td>\n",
              "      <td>0.50</td>\n",
              "      <td>0.00</td>\n",
              "      <td>1.00</td>\n",
              "      <td>0.25</td>\n",
              "      <td>0.25</td>\n",
              "      <td>1.00</td>\n",
              "      <td>1.00</td>\n",
              "      <td>0.25</td>\n",
              "      <td>0.75</td>\n",
              "      <td>0.00</td>\n",
              "      <td>0.0</td>\n",
              "      <td>0.75</td>\n",
              "      <td>1.00</td>\n",
              "      <td>1.00</td>\n",
              "      <td>0.00</td>\n",
              "      <td>0.25</td>\n",
              "      <td>0.00</td>\n",
              "      <td>0.00</td>\n",
              "      <td>0.25</td>\n",
              "      <td>0.25</td>\n",
              "      <td>0.25</td>\n",
              "      <td>0.00</td>\n",
              "      <td>1.00</td>\n",
              "      <td>0.25</td>\n",
              "      <td>...</td>\n",
              "      <td>0.50</td>\n",
              "      <td>0.5</td>\n",
              "      <td>0.25</td>\n",
              "      <td>1.0</td>\n",
              "      <td>0.50</td>\n",
              "      <td>0.25</td>\n",
              "      <td>0.00</td>\n",
              "      <td>0.25</td>\n",
              "      <td>0.50</td>\n",
              "      <td>0.25</td>\n",
              "      <td>1.00</td>\n",
              "      <td>0.25</td>\n",
              "      <td>0.00</td>\n",
              "      <td>0.50</td>\n",
              "      <td>0.75</td>\n",
              "      <td>0.75</td>\n",
              "      <td>0.50</td>\n",
              "      <td>1.00</td>\n",
              "      <td>1.00</td>\n",
              "      <td>0.25</td>\n",
              "      <td>0.50</td>\n",
              "      <td>0.25</td>\n",
              "      <td>0.50</td>\n",
              "      <td>0.50</td>\n",
              "      <td>0.50</td>\n",
              "      <td>0.5</td>\n",
              "      <td>0.25</td>\n",
              "      <td>0.25</td>\n",
              "      <td>0.75</td>\n",
              "      <td>0.50</td>\n",
              "      <td>0.50</td>\n",
              "      <td>0.50</td>\n",
              "      <td>0.75</td>\n",
              "      <td>1.00</td>\n",
              "      <td>0.75</td>\n",
              "      <td>0.5</td>\n",
              "      <td>0.5</td>\n",
              "      <td>0.50</td>\n",
              "      <td>0.50</td>\n",
              "      <td>0.50</td>\n",
              "    </tr>\n",
              "    <tr>\n",
              "      <th>n0038e640522c4a6</th>\n",
              "      <td>era121</td>\n",
              "      <td>validation</td>\n",
              "      <td>1.00</td>\n",
              "      <td>0.00</td>\n",
              "      <td>0.00</td>\n",
              "      <td>1.00</td>\n",
              "      <td>1.0</td>\n",
              "      <td>1.00</td>\n",
              "      <td>1.0</td>\n",
              "      <td>1.00</td>\n",
              "      <td>0.50</td>\n",
              "      <td>0.5</td>\n",
              "      <td>1.00</td>\n",
              "      <td>1.0</td>\n",
              "      <td>1.00</td>\n",
              "      <td>0.75</td>\n",
              "      <td>0.50</td>\n",
              "      <td>0.50</td>\n",
              "      <td>1.00</td>\n",
              "      <td>1.00</td>\n",
              "      <td>0.50</td>\n",
              "      <td>0.50</td>\n",
              "      <td>0.00</td>\n",
              "      <td>1.00</td>\n",
              "      <td>0.50</td>\n",
              "      <td>1.00</td>\n",
              "      <td>0.5</td>\n",
              "      <td>1.00</td>\n",
              "      <td>0.50</td>\n",
              "      <td>1.00</td>\n",
              "      <td>0.25</td>\n",
              "      <td>1.00</td>\n",
              "      <td>1.00</td>\n",
              "      <td>1.00</td>\n",
              "      <td>0.50</td>\n",
              "      <td>1.00</td>\n",
              "      <td>1.00</td>\n",
              "      <td>0.75</td>\n",
              "      <td>1.00</td>\n",
              "      <td>1.00</td>\n",
              "      <td>...</td>\n",
              "      <td>0.25</td>\n",
              "      <td>0.5</td>\n",
              "      <td>0.00</td>\n",
              "      <td>0.0</td>\n",
              "      <td>0.00</td>\n",
              "      <td>0.25</td>\n",
              "      <td>0.25</td>\n",
              "      <td>0.00</td>\n",
              "      <td>0.50</td>\n",
              "      <td>0.00</td>\n",
              "      <td>0.00</td>\n",
              "      <td>0.00</td>\n",
              "      <td>0.25</td>\n",
              "      <td>0.00</td>\n",
              "      <td>0.25</td>\n",
              "      <td>0.50</td>\n",
              "      <td>0.00</td>\n",
              "      <td>0.00</td>\n",
              "      <td>0.00</td>\n",
              "      <td>0.00</td>\n",
              "      <td>0.00</td>\n",
              "      <td>0.00</td>\n",
              "      <td>0.50</td>\n",
              "      <td>0.00</td>\n",
              "      <td>0.75</td>\n",
              "      <td>0.0</td>\n",
              "      <td>0.00</td>\n",
              "      <td>0.25</td>\n",
              "      <td>0.00</td>\n",
              "      <td>0.00</td>\n",
              "      <td>0.00</td>\n",
              "      <td>0.00</td>\n",
              "      <td>0.50</td>\n",
              "      <td>0.25</td>\n",
              "      <td>0.00</td>\n",
              "      <td>0.0</td>\n",
              "      <td>0.5</td>\n",
              "      <td>0.50</td>\n",
              "      <td>0.00</td>\n",
              "      <td>1.00</td>\n",
              "    </tr>\n",
              "    <tr>\n",
              "      <th>n004ac94a87dc54b</th>\n",
              "      <td>era121</td>\n",
              "      <td>validation</td>\n",
              "      <td>0.75</td>\n",
              "      <td>1.00</td>\n",
              "      <td>1.00</td>\n",
              "      <td>0.50</td>\n",
              "      <td>0.0</td>\n",
              "      <td>0.00</td>\n",
              "      <td>0.0</td>\n",
              "      <td>0.50</td>\n",
              "      <td>0.75</td>\n",
              "      <td>1.0</td>\n",
              "      <td>0.75</td>\n",
              "      <td>0.0</td>\n",
              "      <td>0.50</td>\n",
              "      <td>0.00</td>\n",
              "      <td>0.50</td>\n",
              "      <td>0.75</td>\n",
              "      <td>0.50</td>\n",
              "      <td>0.75</td>\n",
              "      <td>0.25</td>\n",
              "      <td>0.75</td>\n",
              "      <td>0.25</td>\n",
              "      <td>0.75</td>\n",
              "      <td>0.25</td>\n",
              "      <td>0.75</td>\n",
              "      <td>1.0</td>\n",
              "      <td>0.50</td>\n",
              "      <td>0.50</td>\n",
              "      <td>0.75</td>\n",
              "      <td>0.50</td>\n",
              "      <td>1.00</td>\n",
              "      <td>0.50</td>\n",
              "      <td>0.25</td>\n",
              "      <td>0.75</td>\n",
              "      <td>0.25</td>\n",
              "      <td>0.75</td>\n",
              "      <td>0.25</td>\n",
              "      <td>0.75</td>\n",
              "      <td>0.75</td>\n",
              "      <td>...</td>\n",
              "      <td>0.00</td>\n",
              "      <td>0.0</td>\n",
              "      <td>0.00</td>\n",
              "      <td>0.0</td>\n",
              "      <td>0.00</td>\n",
              "      <td>0.00</td>\n",
              "      <td>0.00</td>\n",
              "      <td>0.00</td>\n",
              "      <td>0.25</td>\n",
              "      <td>0.00</td>\n",
              "      <td>0.25</td>\n",
              "      <td>0.00</td>\n",
              "      <td>0.00</td>\n",
              "      <td>0.25</td>\n",
              "      <td>0.00</td>\n",
              "      <td>0.00</td>\n",
              "      <td>0.00</td>\n",
              "      <td>0.00</td>\n",
              "      <td>0.75</td>\n",
              "      <td>0.00</td>\n",
              "      <td>0.00</td>\n",
              "      <td>0.25</td>\n",
              "      <td>0.25</td>\n",
              "      <td>0.00</td>\n",
              "      <td>0.00</td>\n",
              "      <td>0.0</td>\n",
              "      <td>0.00</td>\n",
              "      <td>0.00</td>\n",
              "      <td>0.00</td>\n",
              "      <td>0.00</td>\n",
              "      <td>0.00</td>\n",
              "      <td>0.00</td>\n",
              "      <td>0.00</td>\n",
              "      <td>0.25</td>\n",
              "      <td>0.00</td>\n",
              "      <td>0.0</td>\n",
              "      <td>0.0</td>\n",
              "      <td>0.25</td>\n",
              "      <td>0.25</td>\n",
              "      <td>0.50</td>\n",
              "    </tr>\n",
              "    <tr>\n",
              "      <th>n0052fe97ea0c05f</th>\n",
              "      <td>era121</td>\n",
              "      <td>validation</td>\n",
              "      <td>0.25</td>\n",
              "      <td>0.50</td>\n",
              "      <td>0.50</td>\n",
              "      <td>0.25</td>\n",
              "      <td>1.0</td>\n",
              "      <td>0.50</td>\n",
              "      <td>0.5</td>\n",
              "      <td>0.25</td>\n",
              "      <td>0.25</td>\n",
              "      <td>0.5</td>\n",
              "      <td>0.50</td>\n",
              "      <td>1.0</td>\n",
              "      <td>1.00</td>\n",
              "      <td>1.00</td>\n",
              "      <td>1.00</td>\n",
              "      <td>0.75</td>\n",
              "      <td>0.50</td>\n",
              "      <td>0.50</td>\n",
              "      <td>0.50</td>\n",
              "      <td>0.75</td>\n",
              "      <td>0.00</td>\n",
              "      <td>0.00</td>\n",
              "      <td>0.00</td>\n",
              "      <td>0.25</td>\n",
              "      <td>0.0</td>\n",
              "      <td>0.00</td>\n",
              "      <td>0.75</td>\n",
              "      <td>0.25</td>\n",
              "      <td>1.00</td>\n",
              "      <td>0.25</td>\n",
              "      <td>1.00</td>\n",
              "      <td>0.75</td>\n",
              "      <td>0.00</td>\n",
              "      <td>1.00</td>\n",
              "      <td>0.75</td>\n",
              "      <td>0.75</td>\n",
              "      <td>0.75</td>\n",
              "      <td>0.25</td>\n",
              "      <td>...</td>\n",
              "      <td>0.00</td>\n",
              "      <td>0.5</td>\n",
              "      <td>0.50</td>\n",
              "      <td>0.0</td>\n",
              "      <td>0.75</td>\n",
              "      <td>0.50</td>\n",
              "      <td>0.75</td>\n",
              "      <td>0.25</td>\n",
              "      <td>0.25</td>\n",
              "      <td>0.25</td>\n",
              "      <td>0.00</td>\n",
              "      <td>0.25</td>\n",
              "      <td>0.50</td>\n",
              "      <td>0.25</td>\n",
              "      <td>1.00</td>\n",
              "      <td>1.00</td>\n",
              "      <td>1.00</td>\n",
              "      <td>0.00</td>\n",
              "      <td>0.25</td>\n",
              "      <td>0.00</td>\n",
              "      <td>0.00</td>\n",
              "      <td>0.25</td>\n",
              "      <td>0.25</td>\n",
              "      <td>0.75</td>\n",
              "      <td>1.00</td>\n",
              "      <td>1.0</td>\n",
              "      <td>0.75</td>\n",
              "      <td>0.75</td>\n",
              "      <td>0.50</td>\n",
              "      <td>0.50</td>\n",
              "      <td>0.50</td>\n",
              "      <td>0.75</td>\n",
              "      <td>0.00</td>\n",
              "      <td>0.00</td>\n",
              "      <td>0.75</td>\n",
              "      <td>1.0</td>\n",
              "      <td>0.0</td>\n",
              "      <td>0.25</td>\n",
              "      <td>1.00</td>\n",
              "      <td>0.75</td>\n",
              "    </tr>\n",
              "  </tbody>\n",
              "</table>\n",
              "<p>5 rows × 313 columns</p>\n",
              "</div>"
            ],
            "text/plain": [
              "                     era   data_type  ...  feature_wisdom46  target\n",
              "id                                    ...                          \n",
              "n0003aa52cab36c2  era121  validation  ...              0.00    0.25\n",
              "n000920ed083903f  era121  validation  ...              0.50    0.50\n",
              "n0038e640522c4a6  era121  validation  ...              0.00    1.00\n",
              "n004ac94a87dc54b  era121  validation  ...              0.25    0.50\n",
              "n0052fe97ea0c05f  era121  validation  ...              1.00    0.75\n",
              "\n",
              "[5 rows x 313 columns]"
            ]
          },
          "metadata": {
            "tags": []
          },
          "execution_count": 10
        }
      ]
    },
    {
      "cell_type": "code",
      "metadata": {
        "id": "cAAMLN13eg9z",
        "colab": {
          "base_uri": "https://localhost:8080/"
        },
        "outputId": "144b4ab9-7a55-4605-fe39-6ade35ab4119"
      },
      "source": [
        "%%time\n",
        "\"\"\"\n",
        "print(\"Generating predictions on training data...\")\n",
        "training_preds = model.predict(training_data[feature_names].astype(np.float32))\n",
        "training_data[PREDICTION_NAME] = training_preds\n",
        "gc.collect()\n",
        "\"\"\"\n",
        "print(\"Generating predictions on tournament data...\")\n",
        "tournament_preds = model.predict(tournament_data[feature_names].astype(np.float32))\n",
        "tournament_data[PREDICTION_NAME] = tournament_preds"
      ],
      "execution_count": null,
      "outputs": [
        {
          "output_type": "stream",
          "text": [
            "Generating predictions on tournament data...\n"
          ],
          "name": "stdout"
        }
      ]
    },
    {
      "cell_type": "code",
      "metadata": {
        "id": "O2r269Xaeo9_"
      },
      "source": [
        "# Check the per-era correlations on the training set (in sample)\n",
        "train_correlations = training_data.groupby(\"era\").apply(score)\n",
        "print(f\"On training the correlation has mean {train_correlations.mean()} and std {train_correlations.std()}\")\n",
        "print(f\"On training the average per-era payout is {payout(train_correlations).mean()}\")\n",
        "\n",
        "# Check the per-era correlations on the validation set (out of sample)\n",
        "validation_data = tournament_data[tournament_data.data_type == \"validation\"]\n",
        "validation_correlations = validation_data.groupby(\"era\").apply(score)\n",
        "print(f\"On validation the correlation has mean {validation_correlations.mean()} and \"\n",
        "        f\"std {validation_correlations.std()}\")\n",
        "print(f\"On validation the average per-era payout is {payout(validation_correlations).mean()}\")"
      ],
      "execution_count": null,
      "outputs": []
    },
    {
      "cell_type": "code",
      "metadata": {
        "id": "GWjIbe_emZtd"
      },
      "source": [
        "# FEAT_EXPOSURE: How much your model is correlated to the features across era\n",
        "feature_exposures = validation_data[feature_names].apply(\n",
        "    lambda d: correlation(validation_data[PREDICTION_NAME], d), axis=0\n",
        ")\n",
        "max_per_era = validation_data.groupby(\"era\").apply(\n",
        "    lambda d: d[feature_names].corrwith(d[PREDICTION_NAME]).abs().max()\n",
        ")\n",
        "max_feature_exposure = max_per_era.mean()\n",
        "print(f\"Max Feature Exposure: {max_feature_exposure}\")"
      ],
      "execution_count": null,
      "outputs": []
    },
    {
      "cell_type": "code",
      "metadata": {
        "id": "dNlyLZYYO-qj"
      },
      "source": [
        "tournament_data[PREDICTION_NAME].to_csv(f\"{TOURNAMENT_NAME}_{current_ds}_submission.csv\")"
      ],
      "execution_count": null,
      "outputs": []
    },
    {
      "cell_type": "markdown",
      "metadata": {
        "id": "tnR0L5j8p8Qg"
      },
      "source": [
        "## Uploading predictions using your API keys 🚀"
      ]
    },
    {
      "cell_type": "markdown",
      "metadata": {
        "id": "5KyofI17Al0m"
      },
      "source": [
        "To create a key for submission only, \n",
        "\n",
        "`Settings -> Create API key -> select \"Upload Predictions\" -> Save`\n"
      ]
    },
    {
      "cell_type": "code",
      "metadata": {
        "id": "rEfqpxcEWDdK"
      },
      "source": [
        "# NameOfYourAI\n",
        "# Add keys between the quotes\n",
        "public_id = \"YourKeys\"\n",
        "secret_key = \"YourKeys\"\n",
        "model_id = \"YourKeys\"\n",
        "napi = numerapi.NumerAPI(public_id=public_id, secret_key=secret_key)"
      ],
      "execution_count": null,
      "outputs": []
    },
    {
      "cell_type": "code",
      "metadata": {
        "id": "WeAIJHaoW3VU"
      },
      "source": [
        "submission_id = napi.upload_predictions(f\"{TOURNAMENT_NAME}_{current_ds}_submission.csv\", model_id=model_id)"
      ],
      "execution_count": null,
      "outputs": []
    },
    {
      "cell_type": "markdown",
      "metadata": {
        "id": "xzbmOgR3klas"
      },
      "source": [
        "And its done. Congratulations🎉. Your predictions for latest round are submitted! \n",
        "\n",
        "\n",
        "Check some information about your latest predictions on [Numerai Tournament]\n",
        "(https://numer.ai/tournament). It will show some metrics like this,\n",
        "\n",
        "![Submission](https://cdn-images-1.medium.com/max/600/1*3pb7M7utM21d3RXnhjx5KA.png)\n",
        "\n",
        "Note: This screenshot is from my other submissions\n"
      ]
    },
    {
      "cell_type": "markdown",
      "metadata": {
        "id": "7ZdK2PwsOIWr"
      },
      "source": [
        "## Let's check out how well the `example_predictions` perform 💭\n",
        "You can compare your models with `example_predictions` and try to beat it on some metrics or atlest, you should aim for positive correlation in initial submissions."
      ]
    },
    {
      "cell_type": "code",
      "metadata": {
        "id": "LfqhltcNOAgH",
        "cellView": "code"
      },
      "source": [
        "#@title\n",
        "tournament_data[PREDICTION_NAME]=example_preds['prediction_kazutsugi'].values"
      ],
      "execution_count": null,
      "outputs": []
    },
    {
      "cell_type": "code",
      "metadata": {
        "id": "byBsR8gsN8d7",
        "cellView": "code"
      },
      "source": [
        "#@title\n",
        "# Check the per-era correlations on the validation set (out of sample)\n",
        "validation_data = tournament_data[tournament_data.data_type == \"validation\"]\n",
        "validation_correlations = validation_data.groupby(\"era\").apply(score)\n",
        "print(f\"On validation the correlation has mean {validation_correlations.mean()} and \"\n",
        "        f\"std {validation_correlations.std()}\")\n",
        "print(f\"On validation the average per-era payout is {payout(validation_correlations).mean()}\")"
      ],
      "execution_count": null,
      "outputs": []
    },
    {
      "cell_type": "markdown",
      "metadata": {
        "id": "IktkOxmVCwfc"
      },
      "source": [
        "## Some useful tips from my experience for using colab efficiently ✨\n",
        "- You can do simple data exploration without any accelators(GPU/TPU).\n",
        "- Use GPU/TPU only when everything is ready for execution.\n",
        "- You can mount your Google Drive to save any work done here.\n",
        "- Make sure to terminate session if your work is complete and you no longer need that session.\n"
      ]
    },
    {
      "cell_type": "markdown",
      "metadata": {
        "id": "fTj60R3grwED"
      },
      "source": [
        "Created by Suraj Parmar\n",
        "\n",
        "- Numerai: [SurajP](https://numer.ai/surajp)\n",
        "\n",
        "- Twitter: [@parmarsuraj99](https://twitter.com/parmarsuraj99)\n",
        "\n",
        "\n",
        "Thanks to [@NJ](https://twitter.com/tasha_jade) and [@MikeP](https://twitter.com/EasyMikeP) for the feedback\n"
      ]
    },
    {
      "cell_type": "code",
      "metadata": {
        "id": "qM8yW9SkFMip"
      },
      "source": [
        ""
      ],
      "execution_count": null,
      "outputs": []
    }
  ]
}